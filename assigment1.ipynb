{
  "nbformat": 4,
  "nbformat_minor": 0,
  "metadata": {
    "colab": {
      "provenance": [],
      "authorship_tag": "ABX9TyMe+PLBDVbXk9q+eiKkiWlB",
      "include_colab_link": true
    },
    "kernelspec": {
      "name": "python3",
      "display_name": "Python 3"
    },
    "language_info": {
      "name": "python"
    }
  },
  "cells": [
    {
      "cell_type": "markdown",
      "metadata": {
        "id": "view-in-github",
        "colab_type": "text"
      },
      "source": [
        "<a href=\"https://colab.research.google.com/github/Godwill-Kipchirchir/assessment1/blob/main/assigment1.ipynb\" target=\"_parent\"><img src=\"https://colab.research.google.com/assets/colab-badge.svg\" alt=\"Open In Colab\"/></a>"
      ]
    },
    {
      "cell_type": "code",
      "execution_count": null,
      "metadata": {
        "id": "fuBPyWgLNPWx"
      },
      "outputs": [],
      "source": []
    },
    {
      "cell_type": "markdown",
      "source": [
        "# ***Introduction***\n",
        "\n",
        "Welcome to my first python notebook.\n",
        "\n",
        "This notebook provides clear quide of a program that analyses text input from users, calculating statistics and creating visualisations of the results.\n",
        "\n",
        "## **Function 1: get_user_input()**\n",
        "\n",
        "To ask for a block of text I will use pyinputplus\n"
      ],
      "metadata": {
        "id": "zLrhC790r5Nk"
      }
    },
    {
      "cell_type": "code",
      "source": [
        "#start by installing pyinputplus\n",
        "!pip install pyinputplus"
      ],
      "metadata": {
        "id": "FfpdmuAmLyFS"
      },
      "execution_count": null,
      "outputs": []
    },
    {
      "cell_type": "markdown",
      "source": [
        "After installing the pyinputplus, I'll proceed to getting users input."
      ],
      "metadata": {
        "id": "Irrksh-NMt5I"
      }
    },
    {
      "cell_type": "code",
      "source": [
        "\n",
        "#get users input\n",
        "import pyinputplus as pyip\n",
        "def get_user_input():\n",
        "    print(\"\\n📝 Please enter your text below.\")\n",
        "    print(\"(Press Enter twice to finish):\")\n",
        "\n",
        "    lines = []\n",
        "    while True:\n",
        "        line = input()\n",
        "        if line.strip() == \"\":\n",
        "            if lines:\n",
        "                break\n",
        "            else:\n",
        "                print(\"Please enter at least one line of text.\")\n",
        "        else:\n",
        "            lines.append(line.strip())\n",
        "\n",
        "    return \" \".join(lines)\n",
        "'''#output\n",
        "text = get_user_input()\n",
        "print(\"\\n—you entered—\\n\")\n",
        "print(text)'''\n"
      ],
      "metadata": {
        "id": "EBRxn6YTM9oD"
      },
      "execution_count": 49,
      "outputs": []
    },
    {
      "cell_type": "markdown",
      "source": [
        "# **Function 2: clean_text(text)**\n",
        "\n",
        "This removes punctuations and normalizes the case."
      ],
      "metadata": {
        "id": "vibleq4wOrKR"
      }
    },
    {
      "cell_type": "code",
      "source": [
        "# import re in Python is used to bring in the Regular Expressions (regex)\n",
        "# module, which lets you search, match, and manipulate strings using patterns.\n",
        "\n",
        "import re\n",
        "\n",
        "def clean_text(text):\n",
        "    # Convert to lowercase\n",
        "    text = text.lower()\n",
        "    # Remove punctuation using regex\n",
        "    text = re.sub(r'[^\\w\\s]', '', text)\n",
        "    return text\n",
        "\n",
        "'''sample = text\n",
        "cleaned = clean_text(sample)\n",
        "print(\"original:\",sample)\n",
        "print(\"cleaned:\",cleaned)'''"
      ],
      "metadata": {
        "id": "u7RgUDp0PBNp"
      },
      "execution_count": null,
      "outputs": []
    },
    {
      "cell_type": "markdown",
      "source": [
        "# **Function 3:** calculate_statistics(text)\n",
        "\n",
        "This calculates basic statisctics from the cleaned text.\n"
      ],
      "metadata": {
        "id": "JbxRAcq-QwgN"
      }
    },
    {
      "cell_type": "code",
      "source": [
        "def calculate_statistics(cleaned_text):\n",
        "    words = cleaned_text.split()\n",
        "    word_count = len(words)\n",
        "\n",
        "    # Basic sentence count: count '.', '!' or '?' in original text\n",
        "    # (Assume original text is available, not cleaned one)\n",
        "    sentence_count = len(re.findall(r'[.!?]', cleaned_text))\n",
        "\n",
        "    # Calculate average word length\n",
        "    if word_count > 0:\n",
        "        avg_word_len = sum(len(word) for word in words) / word_count\n",
        "    else:\n",
        "        avg_word_len = 0\n",
        "\n",
        "    return {\n",
        "        'word_count': word_count,\n",
        "        'sentence_count': sentence_count,\n",
        "        'average_word_length': round(avg_word_len, 2)\n",
        "    }\n"
      ],
      "metadata": {
        "id": "cd-jNWoZRZ5N"
      },
      "execution_count": 35,
      "outputs": []
    },
    {
      "cell_type": "markdown",
      "source": [
        "## **Function 4:**   get_word_frequencies(cleaned_text,top_n)\n",
        "\n",
        "For this to be efficient to the progam or for it to be effective I used ***collections.counter*** to find the most common words.\n",
        "\n",
        "**Collections.Counter**\n",
        "*   A subclass of dict designed for counting.\n",
        "*   Keys are the items you’re counting (e.g., words), and values are the counts.\n",
        "\n",
        "\n",
        "\n"
      ],
      "metadata": {
        "id": "4sPtKLHqWBNm"
      }
    },
    {
      "cell_type": "code",
      "source": [
        "from collections import Counter\n",
        "\n",
        "def get_word_frequencies(cleaned_text, top_n=10):\n",
        "    words = cleaned_text.split()\n",
        "    word_counts = Counter(words)\n",
        "    most_common = word_counts.most_common(top_n)\n",
        "    return dict(most_common)\n",
        "\n",
        "#sample text is the user input saved in the variable \"text\"\n",
        "sample_text = text\n",
        "#the input must first be cleaned before getting the word frequency\n",
        "freqs = get_word_frequencies(sample_text, top_n=3)\n",
        "\n",
        "'''print(\"Top 3 word frequencies:\")\n",
        "for word, count in freqs.items():\n",
        "    print(f\"{word}: {count}\")'''\n",
        "\n"
      ],
      "metadata": {
        "id": "GPzPWdVjiXyr"
      },
      "execution_count": null,
      "outputs": []
    },
    {
      "cell_type": "markdown",
      "source": [
        "## **Function 5:**  visualise_frequencies(freq_dict)\n",
        "\n",
        "\n",
        "This visualises the frequency dictionary using matplotlib.\n",
        "\n",
        "*   It takes your frequency dictionary—where keys are words and values are counts—and produce a bar chart of the top words.\n",
        "\n",
        "\n",
        "\n"
      ],
      "metadata": {
        "id": "i8BQSsHtnPU6"
      }
    },
    {
      "cell_type": "code",
      "source": [
        "!pip install matplotlib"
      ],
      "metadata": {
        "id": "rNemQZ7QoroB"
      },
      "execution_count": null,
      "outputs": []
    },
    {
      "cell_type": "code",
      "source": [
        "import matplotlib.pyplot as plt\n",
        "\n",
        "def visualise_frequencies(freq_dict):\n",
        "    if not freq_dict:\n",
        "        print(\"No data to display.\")\n",
        "        return\n",
        "\n",
        "    words = list(freq_dict.keys())\n",
        "    counts = list(freq_dict.values())\n",
        "\n",
        "    plt.figure(figsize=(10, 6))\n",
        "    plt.bar(words, counts, color='skyblue')\n",
        "    plt.xlabel('Words')\n",
        "    plt.ylabel('Frequency')\n",
        "    plt.title('Top Word Frequencies')\n",
        "    plt.xticks(rotation=45)\n",
        "    plt.tight_layout()\n",
        "    plt.show()\n",
        "\n",
        "\n",
        "'''sample = text\n",
        "cleaned = clean_text(sample)\n",
        "freq_dict = get_word_frequencies(cleaned, top_n=3)\n",
        "print(\"Frequencies:\", freq_dict)\n",
        "visualise_frequencies(freq_dict)'''"
      ],
      "metadata": {
        "id": "aiHAQwb8oXRr"
      },
      "execution_count": null,
      "outputs": []
    },
    {
      "cell_type": "markdown",
      "source": [
        "## **A well working program with main menu**\n",
        "\n",
        "Below is a well developed program which:\n",
        "* Takes user inputs\n",
        "* Cleans and  analyses it\n",
        "* shows stats + word frequencies\n",
        "* Visualises Data\n",
        "* Uses a clean menu with pyinputplus"
      ],
      "metadata": {
        "id": "9MCl60qRQThu"
      }
    },
    {
      "cell_type": "code",
      "source": [
        "!pip install pyinputplus"
      ],
      "metadata": {
        "id": "VtlkphzSRg_7"
      },
      "execution_count": null,
      "outputs": []
    },
    {
      "cell_type": "code",
      "source": [
        "import pyinputplus as pyip\n",
        "import re\n",
        "from collections import Counter\n",
        "import matplotlib.pyplot as plt\n",
        "\n",
        "def get_user_input():\n",
        "    print(\"\\n📝 Please enter your text below.\")\n",
        "    print(\"(Press Enter twice to finish):\")\n",
        "\n",
        "    lines = []\n",
        "    while True:\n",
        "        line = input()\n",
        "        if line.strip() == \"\":\n",
        "            if lines:\n",
        "                break\n",
        "            else:\n",
        "                print(\"Please enter at least one line of text.\")\n",
        "        else:\n",
        "            lines.append(line.strip())\n",
        "\n",
        "    return \" \".join(lines)\n",
        "\n",
        "def clean_text(text):\n",
        "    # Convert to lowercase\n",
        "    text = text.lower()\n",
        "    # Remove punctuation using regex\n",
        "    text = re.sub(r'[^\\w\\s]', '', text)\n",
        "    return text\n",
        "\n",
        "def calculate_statistics(cleaned_text):\n",
        "    #the function had an unused argument \"cleaned\"\n",
        "    #so i deleted it\n",
        "    words = cleaned_text.split()\n",
        "    word_count = len(words)\n",
        "\n",
        "    # Basic sentence count: count '.', '!' or '?' in original text\n",
        "    # (Assume original text is available, not cleaned one)\n",
        "    sentence_count = len(re.findall(r'[.!?]', cleaned_text))\n",
        "\n",
        "    # Calculate average word length\n",
        "    if word_count > 0:\n",
        "        avg_word_len = sum(len(word) for word in words) / word_count\n",
        "    else:\n",
        "        avg_word_len = 0\n",
        "\n",
        "    return {\n",
        "        'word_count': word_count,\n",
        "        'sentence_count': sentence_count,\n",
        "        'average_word_length': round(avg_word_len, 2)\n",
        "    }\n",
        "\n",
        "\n",
        "from collections import Counter\n",
        "\n",
        "def get_word_frequencies(cleaned_text, top_n=10):\n",
        "    words = cleaned_text.split()\n",
        "    word_counts = Counter(words)\n",
        "    most_common = word_counts.most_common(top_n)\n",
        "    return dict(most_common)\n",
        "\n",
        "\n",
        "\n",
        "def visualise_frequencies(freq_dict):\n",
        "    if not freq_dict:\n",
        "        print(\"No data to display.\")\n",
        "        return\n",
        "\n",
        "    words = list(freq_dict.keys())\n",
        "    counts = list(freq_dict.values())\n",
        "\n",
        "    plt.figure(figsize=(10, 6))\n",
        "    plt.bar(words, counts, color='skyblue')\n",
        "    plt.xlabel('Words')\n",
        "    plt.ylabel('Frequency')\n",
        "    plt.title('Top Word Frequencies')\n",
        "    plt.xticks(rotation=45)\n",
        "    plt.tight_layout()\n",
        "    plt.show()\n",
        "\n",
        "\n",
        "\n",
        "def main_menu():\n",
        "    user_text = \"\"\n",
        "    cleaned = \"\"\n",
        "    stats = {}\n",
        "    freq_dict = {}\n",
        "\n",
        "    while True:\n",
        "        print(\"\\n TEXT ANALYSIS TOOL MENU\")\n",
        "        choice = pyip.inputMenu([\n",
        "            '1. Enter new text',\n",
        "            '2. Show text statistics',\n",
        "            '3. Show top word frequencies',\n",
        "            '4. Visualise word frequencies',\n",
        "            '5. Exit'\n",
        "        ], numbered=True)\n",
        "\n",
        "        if choice.startswith('1'):\n",
        "            user_text = get_user_input()\n",
        "            cleaned = clean_text(user_text)\n",
        "            #Removed the unused argument \"cleaned\" from\n",
        "            #calculate_statistics function call\n",
        "            stats = calculate_statistics(user_text)\n",
        "            freq_dict = get_word_frequencies(cleaned, top_n=10)\n",
        "            print(\"Text saved and analysed!\")\n",
        "\n",
        "        elif choice.startswith('2'):\n",
        "            if not user_text:\n",
        "                print(\"No text entered yet. Please enter text first.\")\n",
        "            else:\n",
        "                print(\"\\nText Statistics:\")\n",
        "                for key, value in stats.items():\n",
        "                    print(f\"{key.replace('_', ' ').capitalize()}: {value}\")\n",
        "\n",
        "        elif choice.startswith('3'):\n",
        "            if not freq_dict:\n",
        "                print(\"No frequency data available. Please enter text first.\")\n",
        "            else:\n",
        "                print(\"\\n Top Word Frequencies:\")\n",
        "                for word, count in freq_dict.items():\n",
        "                    print(f\"{word}: {count}\")\n",
        "\n",
        "        elif choice.startswith('4'):\n",
        "            visualise_frequencies(freq_dict)\n",
        "\n",
        "        elif choice.startswith('5'):\n",
        "            print(\"Exiting program. Goodbye!\")\n",
        "            break\n"
      ],
      "metadata": {
        "id": "CeT9clL_RP5a"
      },
      "execution_count": 8,
      "outputs": []
    },
    {
      "cell_type": "code",
      "source": [
        "\n",
        "main_menu()\n"
      ],
      "metadata": {
        "id": "lBhHHFb4SUQ7",
        "outputId": "66a7e4f2-ef6e-4fb5-9cf5-e43d4e908b6f",
        "colab": {
          "base_uri": "https://localhost:8080/",
          "height": 1000
        }
      },
      "execution_count": 9,
      "outputs": [
        {
          "name": "stdout",
          "output_type": "stream",
          "text": [
            "\n",
            " TEXT ANALYSIS TOOL MENU\n",
            "Please select one of the following:\n",
            "1. 1. Enter new text\n",
            "2. 2. Show text statistics\n",
            "3. 3. Show top word frequencies\n",
            "4. 4. Visualise word frequencies\n",
            "5. 5. Exit\n",
            "1\n",
            "\n",
            "📝 Please enter your text below.\n",
            "(Press Enter twice to finish):\n",
            "import pyinputplus as pyip import re from collections import Counter import matplotlib.pyplot as plt  def get_user_input():     print(\"\\n📝 Please enter your text below.\")     print(\"(Press Enter twice to finish):\")      lines = []     while True:         line = input()         if line.strip() == \"\":             if lines:                 break             else:                 print(\"Please enter at least one line of text.\")         else:             lines.append(line.strip())      return \" \".join(lines)  def clean_text(text):     # Convert to lowercase     text = text.lower()     # Remove punctuation using regex     text = re.sub(r'[^\\w\\s]', '', text)     return text  def calculate_statistics(cleaned_text):     #the function had an unused argument \"cleaned\"     #so i deleted it     words = cleaned_text.split()     word_count = len(words)      # Basic sentence count: count '.', '!' or '?' in original text     # (Assume original text is available, not cleaned one)     sentence_count = len(re.findall(r'[.!?]', cleaned_text))      # Calculate average word length     if word_count > 0:         avg_word_len = sum(len(word) for word in words) / word_count     else:         avg_word_len = 0      return {         'word_count': word_count,         'sentence_count': sentence_count,         'average_word_length': round(avg_word_len, 2)     }   from collections import Counter  def get_word_frequencies(cleaned_text, top_n=10):     words = cleaned_text.split()     word_counts = Counter(words)     most_common = word_counts.most_common(top_n)     return dict(most_common)    def visualise_frequencies(freq_dict):     if not freq_dict:         print(\"No data to display.\")         return      words = list(freq_dict.keys())     counts = list(freq_dict.values())      plt.figure(figsize=(10, 6))     plt.bar(words, counts, color='skyblue')     plt.xlabel('Words')     plt.ylabel('Frequency')     plt.title('Top Word Frequencies')     plt.xticks(rotation=45)     plt.tight_layout()     plt.show()    def main_menu():     user_text = \"\"     cleaned = \"\"     stats = {}     freq_dict = {}      while True:         print(\"\\n TEXT ANALYSIS TOOL MENU\")         choice = pyip.inputMenu([             '1. Enter new text',             '2. Show text statistics',             '3. Show top word frequencies',             '4. Visualise word frequencies',             '5. Exit'         ], numbered=True)          if choice.startswith('1'):             user_text = get_user_input()             cleaned = clean_text(user_text)             #Removed the unused argument \"cleaned\" from              #calculate_statistics function call             stats = calculate_statistics(user_text)             freq_dict = get_word_frequencies(cleaned, top_n=10)             print(\"Text saved and analysed!\")          elif choice.startswith('2'):             if not user_text:                 print(\"No text entered yet. Please enter text first.\")             else:                 print(\"\\nText Statistics:\")                 for key, value in stats.items():                     print(f\"{key.replace('_', ' ').capitalize()}: {value}\")          elif choice.startswith('3'):             if not freq_dict:                 print(\"No frequency data available. Please enter text first.\")             else:                 print(\"\\n Top Word Frequencies:\")                 for word, count in freq_dict.items():                     print(f\"{word}: {count}\")          elif choice.startswith('4'):             visualise_frequencies(freq_dict)          elif choice.startswith('5'):             print(\"Exiting program. Goodbye!\")             break\n",
            "\n",
            "Text saved and analysed!\n",
            "\n",
            " TEXT ANALYSIS TOOL MENU\n",
            "Please select one of the following:\n",
            "1. 1. Enter new text\n",
            "2. 2. Show text statistics\n",
            "3. 3. Show top word frequencies\n",
            "4. 4. Visualise word frequencies\n",
            "5. 5. Exit\n",
            "2\n",
            "\n",
            "Text Statistics:\n",
            "Word count: 332\n",
            "Sentence count: 52\n",
            "Average word length: 7.56\n",
            "\n",
            " TEXT ANALYSIS TOOL MENU\n",
            "Please select one of the following:\n",
            "1. 1. Enter new text\n",
            "2. 2. Show text statistics\n",
            "3. 3. Show top word frequencies\n",
            "4. 4. Visualise word frequencies\n",
            "5. 5. Exit\n",
            "3\n",
            "\n",
            " Top Word Frequencies:\n",
            "text: 14\n",
            "if: 7\n",
            "word: 7\n",
            "def: 6\n",
            "enter: 6\n",
            "import: 5\n",
            "else: 5\n",
            "return: 5\n",
            "cleaned: 5\n",
            "word_count: 5\n",
            "\n",
            " TEXT ANALYSIS TOOL MENU\n",
            "Please select one of the following:\n",
            "1. 1. Enter new text\n",
            "2. 2. Show text statistics\n",
            "3. 3. Show top word frequencies\n",
            "4. 4. Visualise word frequencies\n",
            "5. 5. Exit\n",
            "4\n"
          ]
        },
        {
          "output_type": "display_data",
          "data": {
            "text/plain": [
              "<Figure size 1000x600 with 1 Axes>"
            ],
            "image/png": "[encoded data removed]"
          },
          "metadata": {}
        },
        {
          "output_type": "stream",
          "name": "stdout",
          "text": [
            "\n",
            " TEXT ANALYSIS TOOL MENU\n",
            "Please select one of the following:\n",
            "1. 1. Enter new text\n",
            "2. 2. Show text statistics\n",
            "3. 3. Show top word frequencies\n",
            "4. 4. Visualise word frequencies\n",
            "5. 5. Exit\n",
            "5\n",
            "Exiting program. Goodbye!\n"
          ]
        }
      ]
    }
  ]
}