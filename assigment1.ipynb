{
  "nbformat": 4,
  "nbformat_minor": 0,
  "metadata": {
    "colab": {
      "provenance": [],
      "authorship_tag": "ABX9TyMcukxcoRnTTM9boBlSilVs",
      "include_colab_link": true
    },
    "kernelspec": {
      "name": "python3",
      "display_name": "Python 3"
    },
    "language_info": {
      "name": "python"
    }
  },
  "cells": [
    {
      "cell_type": "markdown",
      "metadata": {
        "id": "view-in-github",
        "colab_type": "text"
      },
      "source": [
        "<a href=\"https://colab.research.google.com/github/Godwill-Kipchirchir/assessment1/blob/main/assigment1.ipynb\" target=\"_parent\"><img src=\"https://colab.research.google.com/assets/colab-badge.svg\" alt=\"Open In Colab\"/></a>"
      ]
    },
    {
      "cell_type": "code",
      "execution_count": null,
      "metadata": {
        "id": "fuBPyWgLNPWx"
      },
      "outputs": [],
      "source": []
    },
    {
      "cell_type": "markdown",
      "source": [
        "# ***Introduction***\n",
        "\n",
        "Welcome to my first python notebook.\n",
        "\n",
        "This notebook provides clear quide of a program that analyses text input from users, calculating statistics and creating visualisations of the results.\n",
        "\n",
        "**Function 1: get_user_input()**\n",
        "\n",
        "To ask for a block of text I will use pyinputplus\n"
      ],
      "metadata": {
        "id": "zLrhC790r5Nk"
      }
    },
    {
      "cell_type": "markdown",
      "source": [],
      "metadata": {
        "id": "TLuAB5FlMdtf"
      }
    },
    {
      "cell_type": "code",
      "source": [
        "#start by installing pyinputplus\n",
        "!pip install pyinputplus"
      ],
      "metadata": {
        "collapsed": true,
        "id": "FfpdmuAmLyFS",
        "outputId": "68a290ea-baa9-436b-adf8-3e9e2fc1b499",
        "colab": {
          "base_uri": "https://localhost:8080/"
        }
      },
      "execution_count": 1,
      "outputs": [
        {
          "output_type": "stream",
          "name": "stdout",
          "text": [
            "Collecting pyinputplus\n",
            "  Downloading PyInputPlus-0.2.12.tar.gz (20 kB)\n",
            "  Installing build dependencies ... \u001b[?25l\u001b[?25hdone\n",
            "  Getting requirements to build wheel ... \u001b[?25l\u001b[?25hdone\n",
            "  Preparing metadata (pyproject.toml) ... \u001b[?25l\u001b[?25hdone\n",
            "Collecting pysimplevalidate>=0.2.7 (from pyinputplus)\n",
            "  Downloading PySimpleValidate-0.2.12.tar.gz (22 kB)\n",
            "  Installing build dependencies ... \u001b[?25l\u001b[?25hdone\n",
            "  Getting requirements to build wheel ... \u001b[?25l\u001b[?25hdone\n",
            "  Preparing metadata (pyproject.toml) ... \u001b[?25l\u001b[?25hdone\n",
            "Collecting stdiomask>=0.0.3 (from pyinputplus)\n",
            "  Downloading stdiomask-0.0.6.tar.gz (3.6 kB)\n",
            "  Installing build dependencies ... \u001b[?25l\u001b[?25hdone\n",
            "  Getting requirements to build wheel ... \u001b[?25l\u001b[?25hdone\n",
            "  Preparing metadata (pyproject.toml) ... \u001b[?25l\u001b[?25hdone\n",
            "Building wheels for collected packages: pyinputplus, pysimplevalidate, stdiomask\n",
            "  Building wheel for pyinputplus (pyproject.toml) ... \u001b[?25l\u001b[?25hdone\n",
            "  Created wheel for pyinputplus: filename=pyinputplus-0.2.12-py3-none-any.whl size=11350 sha256=1bb53d54254af9f91122db5c660a41a41d6fa6c9c6b14960cf9c81334eb5e6fd\n",
            "  Stored in directory: /root/.cache/pip/wheels/a3/6b/89/3bec14288af8e0729d088fb41a785e583d49e772f2529c7676\n",
            "  Building wheel for pysimplevalidate (pyproject.toml) ... \u001b[?25l\u001b[?25hdone\n",
            "  Created wheel for pysimplevalidate: filename=pysimplevalidate-0.2.12-py3-none-any.whl size=16224 sha256=dd50689983b607c31e7c9889a40930c1c3f20db60c13942a5fbea40a4fd0564a\n",
            "  Stored in directory: /root/.cache/pip/wheels/fc/40/7a/4d3b2dc2e80b4b3bbda89eec94fcefd6c8bd1101cc7bb89554\n",
            "  Building wheel for stdiomask (pyproject.toml) ... \u001b[?25l\u001b[?25hdone\n",
            "  Created wheel for stdiomask: filename=stdiomask-0.0.6-py3-none-any.whl size=3358 sha256=2dd6a4e0158589add7eb475b40bc87a51eebd116fd5ca9d68d45d810c46d6812\n",
            "  Stored in directory: /root/.cache/pip/wheels/19/0c/90/5ee0da7cf06ff7e233f273063797785d5eabf0ab9f04220866\n",
            "Successfully built pyinputplus pysimplevalidate stdiomask\n",
            "Installing collected packages: stdiomask, pysimplevalidate, pyinputplus\n",
            "Successfully installed pyinputplus-0.2.12 pysimplevalidate-0.2.12 stdiomask-0.0.6\n"
          ]
        }
      ]
    },
    {
      "cell_type": "markdown",
      "source": [
        "After installing the pyinputplus, I'll proceed to getting users input."
      ],
      "metadata": {
        "id": "Irrksh-NMt5I"
      }
    },
    {
      "cell_type": "code",
      "source": [
        "#get users input\n",
        "import pyinputplus as pyip\n",
        "\n",
        "def get_user_input():\n",
        "    print(\"\\nPlease enter your text below (press Enter twice to finish)\")\n",
        "    lines = []\n",
        "    while True:\n",
        "      line = input()\n",
        "      if line == \"\":\n",
        "        break\n",
        "      lines.append(line)\n",
        "    return \" \".join(lines)"
      ],
      "metadata": {
        "id": "EBRxn6YTM9oD"
      },
      "execution_count": 4,
      "outputs": []
    },
    {
      "cell_type": "markdown",
      "source": [
        "# **Function 2: clean_text(text)**\n",
        "\n",
        "This removes punctuations and normalizes the case."
      ],
      "metadata": {
        "id": "vibleq4wOrKR"
      }
    },
    {
      "cell_type": "code",
      "source": [
        "# import re in Python is used to bring in the Regular Expressions (regex)\n",
        "# module, which lets you search, match, and manipulate strings using patterns.\n",
        "\n",
        "import re\n",
        "\n",
        "def clean_text(text):\n",
        "    # Convert to lowercase\n",
        "    text = text.lower()\n",
        "    # Remove punctuation using regex\n",
        "    text = re.sub(r'[^\\w\\s]', '', text)\n",
        "    return text\n",
        "\n"
      ],
      "metadata": {
        "id": "u7RgUDp0PBNp"
      },
      "execution_count": 7,
      "outputs": []
    }
  ]
}