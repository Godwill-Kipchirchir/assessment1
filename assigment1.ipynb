{
  "nbformat": 4,
  "nbformat_minor": 0,
  "metadata": {
    "colab": {
      "provenance": [],
      "authorship_tag": "ABX9TyOCW1VxJoCak9NLskvrOKzv",
      "include_colab_link": true
    },
    "kernelspec": {
      "name": "python3",
      "display_name": "Python 3"
    },
    "language_info": {
      "name": "python"
    }
  },
  "cells": [
    {
      "cell_type": "markdown",
      "metadata": {
        "id": "view-in-github",
        "colab_type": "text"
      },
      "source": [
        "<a href=\"https://colab.research.google.com/github/Godwill-Kipchirchir/assessment1/blob/main/assigment1.ipynb\" target=\"_parent\"><img src=\"https://colab.research.google.com/assets/colab-badge.svg\" alt=\"Open In Colab\"/></a>"
      ]
    },
    {
      "cell_type": "code",
      "execution_count": null,
      "metadata": {
        "id": "fuBPyWgLNPWx"
      },
      "outputs": [],
      "source": []
    },
    {
      "cell_type": "markdown",
      "source": [
        "# ***Introduction***\n",
        "\n",
        "Welcome to my first python notebook.\n",
        "\n",
        "This notebook provides clear quide of a program that analyses text input from users, calculating statistics and creating visualisations of the results.\n",
        "\n",
        "## **Function 1: get_user_input()**\n",
        "\n",
        "To ask for a block of text I will use pyinputplus\n"
      ],
      "metadata": {
        "id": "zLrhC790r5Nk"
      }
    },
    {
      "cell_type": "code",
      "source": [
        "#start by installing pyinputplus\n",
        "!pip install pyinputplus"
      ],
      "metadata": {
        "id": "FfpdmuAmLyFS",
        "outputId": "274c819f-ee9a-4987-d917-76b2891e7257",
        "colab": {
          "base_uri": "https://localhost:8080/"
        }
      },
      "execution_count": 108,
      "outputs": [
        {
          "output_type": "stream",
          "name": "stdout",
          "text": [
            "Requirement already satisfied: pyinputplus in /usr/local/lib/python3.11/dist-packages (0.2.12)\n",
            "Requirement already satisfied: pysimplevalidate>=0.2.7 in /usr/local/lib/python3.11/dist-packages (from pyinputplus) (0.2.12)\n",
            "Requirement already satisfied: stdiomask>=0.0.3 in /usr/local/lib/python3.11/dist-packages (from pyinputplus) (0.0.6)\n"
          ]
        }
      ]
    },
    {
      "cell_type": "markdown",
      "source": [
        "After installing the pyinputplus, I'll proceed to getting users input."
      ],
      "metadata": {
        "id": "Irrksh-NMt5I"
      }
    },
    {
      "cell_type": "code",
      "source": [
        "\n",
        "#get users input\n",
        "def get_user_input():\n",
        "    print(\"\\nPlease enter your text below.\")\n",
        "    print(\"(Press Enter twice to finish):\")\n",
        "    lines = []\n",
        "    while True:\n",
        "        line = input()\n",
        "        if line == \"\":\n",
        "            break\n",
        "        lines.append(line)\n",
        "    return \" \".join(lines)\n",
        "\n",
        "'''output\n",
        "text = get_user_input()\n",
        "print(\"\\n—you entered—\\n\")\n",
        "print(text)'''\n"
      ],
      "metadata": {
        "id": "EBRxn6YTM9oD",
        "colab": {
          "base_uri": "https://localhost:8080/",
          "height": 35
        },
        "outputId": "5011aedf-6b57-4b5a-9764-3bc5cbe75fe2"
      },
      "execution_count": 109,
      "outputs": [
        {
          "output_type": "execute_result",
          "data": {
            "text/plain": [
              "'output\\ntext = get_user_input()\\nprint(\"\\n—you entered—\\n\")\\nprint(text)'"
            ],
            "application/vnd.google.colaboratory.intrinsic+json": {
              "type": "string"
            }
          },
          "metadata": {},
          "execution_count": 109
        }
      ]
    },
    {
      "cell_type": "markdown",
      "source": [
        "# **Function 2: clean_text(text)**\n",
        "\n",
        "This removes punctuations and normalizes the case."
      ],
      "metadata": {
        "id": "vibleq4wOrKR"
      }
    },
    {
      "cell_type": "code",
      "source": [
        "# import re in Python is used to bring in the Regular Expressions (regex)\n",
        "# module, which lets you search, match, and manipulate strings using patterns.\n",
        "\n",
        "import re\n",
        "\n",
        "def clean_text(text):\n",
        "    # Convert to lowercase\n",
        "    text = text.lower()\n",
        "    # Remove punctuation using regex\n",
        "    text = re.sub(r'[^\\w\\s]', '', text)\n",
        "    return text\n",
        "\n",
        "'''sample = text\n",
        "cleaned = clean_text(sample)\n",
        "print(\"original:\",sample)\n",
        "print(\"cleaned:\",cleaned)'''"
      ],
      "metadata": {
        "id": "u7RgUDp0PBNp",
        "colab": {
          "base_uri": "https://localhost:8080/",
          "height": 35
        },
        "outputId": "fe34c4ab-a909-441a-bba8-da72ee8d3c13"
      },
      "execution_count": 110,
      "outputs": [
        {
          "output_type": "execute_result",
          "data": {
            "text/plain": [
              "'sample = text\\ncleaned = clean_text(sample)\\nprint(\"original:\",sample)\\nprint(\"cleaned:\",cleaned)'"
            ],
            "application/vnd.google.colaboratory.intrinsic+json": {
              "type": "string"
            }
          },
          "metadata": {},
          "execution_count": 110
        }
      ]
    },
    {
      "cell_type": "markdown",
      "source": [
        "# **Function 3:** calculate_statistics(text)\n",
        "\n",
        "This calculates basic statisctics from the cleaned text.\n"
      ],
      "metadata": {
        "id": "JbxRAcq-QwgN"
      }
    },
    {
      "cell_type": "code",
      "source": [
        "def calculate_statistics(cleaned_text):\n",
        "    words = cleaned_text.split()\n",
        "    word_count = len(words)\n",
        "\n",
        "    # Basic sentence count: count '.', '!' or '?' in original text\n",
        "    # (Assume original text is available, not cleaned one)\n",
        "    sentence_count = len(re.findall(r'[.!?]', cleaned_text))\n",
        "\n",
        "    # Calculate average word length\n",
        "    if word_count > 0:\n",
        "        avg_word_len = sum(len(word) for word in words) / word_count\n",
        "    else:\n",
        "        avg_word_len = 0\n",
        "\n",
        "    return {\n",
        "        'word_count': word_count,\n",
        "        'sentence_count': sentence_count,\n",
        "        'average_word_length': round(avg_word_len, 2)\n",
        "    }\n"
      ],
      "metadata": {
        "id": "cd-jNWoZRZ5N"
      },
      "execution_count": 111,
      "outputs": []
    },
    {
      "cell_type": "markdown",
      "source": [
        "## **Function 4:**   get_word_frequencies(cleaned_text,top_n)\n",
        "\n",
        "For this to be efficient to the progam or for it to be effective I used ***collections.counter*** to find the most common words.\n",
        "\n",
        "**Collections.Counter**\n",
        "*   A subclass of dict designed for counting.\n",
        "*   Keys are the items you’re counting (e.g., words), and values are the counts.\n",
        "\n",
        "\n",
        "\n"
      ],
      "metadata": {
        "id": "4sPtKLHqWBNm"
      }
    },
    {
      "cell_type": "code",
      "source": [
        "from collections import Counter\n",
        "\n",
        "def get_word_frequencies(cleaned_text, top_n=10):\n",
        "    words = cleaned_text.split()\n",
        "    word_counts = Counter(words)\n",
        "    most_common = word_counts.most_common(top_n)\n",
        "    return dict(most_common)\n",
        "\n",
        "#sample text is the user input saved in the variable \"text\"\n",
        "#sample_text = text\n",
        "#the input must first be cleaned before getting the word frequency\n",
        "#freqs = get_word_frequencies(sample_text, top_n=3)\n",
        "\n",
        "'''print(\"Top 3 word frequencies:\")\n",
        "for word, count in freqs.items():\n",
        "    print(f\"{word}: {count}\")'''\n",
        "\n"
      ],
      "metadata": {
        "colab": {
          "base_uri": "https://localhost:8080/",
          "height": 35
        },
        "id": "GPzPWdVjiXyr",
        "outputId": "e0366ea1-38ec-4bdd-b0d6-ae8b2e30c14b"
      },
      "execution_count": 112,
      "outputs": [
        {
          "output_type": "execute_result",
          "data": {
            "text/plain": [
              "'print(\"Top 3 word frequencies:\")\\nfor word, count in freqs.items():\\n    print(f\"{word}: {count}\")'"
            ],
            "application/vnd.google.colaboratory.intrinsic+json": {
              "type": "string"
            }
          },
          "metadata": {},
          "execution_count": 112
        }
      ]
    },
    {
      "cell_type": "markdown",
      "source": [
        "## **Function 5:**  visualise_frequencies(freq_dict)\n",
        "\n",
        "\n",
        "This visualises the frequency dictionary using matplotlib.\n",
        "\n",
        "*   It takes your frequency dictionary—where keys are words and values are counts—and produce a bar chart of the top words.\n",
        "\n",
        "\n",
        "\n"
      ],
      "metadata": {
        "id": "i8BQSsHtnPU6"
      }
    },
    {
      "cell_type": "code",
      "source": [
        "!pip install matplotlib"
      ],
      "metadata": {
        "colab": {
          "base_uri": "https://localhost:8080/"
        },
        "id": "rNemQZ7QoroB",
        "outputId": "5a840593-28ee-4e8f-ab20-3095e1d520af"
      },
      "execution_count": 113,
      "outputs": [
        {
          "output_type": "stream",
          "name": "stdout",
          "text": [
            "Requirement already satisfied: matplotlib in /usr/local/lib/python3.11/dist-packages (3.10.0)\n",
            "Requirement already satisfied: contourpy>=1.0.1 in /usr/local/lib/python3.11/dist-packages (from matplotlib) (1.3.1)\n",
            "Requirement already satisfied: cycler>=0.10 in /usr/local/lib/python3.11/dist-packages (from matplotlib) (0.12.1)\n",
            "Requirement already satisfied: fonttools>=4.22.0 in /usr/local/lib/python3.11/dist-packages (from matplotlib) (4.57.0)\n",
            "Requirement already satisfied: kiwisolver>=1.3.1 in /usr/local/lib/python3.11/dist-packages (from matplotlib) (1.4.8)\n",
            "Requirement already satisfied: numpy>=1.23 in /usr/local/lib/python3.11/dist-packages (from matplotlib) (2.0.2)\n",
            "Requirement already satisfied: packaging>=20.0 in /usr/local/lib/python3.11/dist-packages (from matplotlib) (24.2)\n",
            "Requirement already satisfied: pillow>=8 in /usr/local/lib/python3.11/dist-packages (from matplotlib) (11.1.0)\n",
            "Requirement already satisfied: pyparsing>=2.3.1 in /usr/local/lib/python3.11/dist-packages (from matplotlib) (3.2.3)\n",
            "Requirement already satisfied: python-dateutil>=2.7 in /usr/local/lib/python3.11/dist-packages (from matplotlib) (2.8.2)\n",
            "Requirement already satisfied: six>=1.5 in /usr/local/lib/python3.11/dist-packages (from python-dateutil>=2.7->matplotlib) (1.17.0)\n"
          ]
        }
      ]
    },
    {
      "cell_type": "code",
      "source": [
        "import re\n",
        "import pyinputplus as pyip\n",
        "from collections import Counter\n",
        "import matplotlib.pyplot as plt\n",
        "\n",
        "def get_user_input():\n",
        "    print(\"\\nPlease enter your text below.\")\n",
        "    print(\"(Press Enter twice to finish):\")\n",
        "    lines = []\n",
        "    while True:\n",
        "        line = input()\n",
        "        if line == \"\":\n",
        "            break\n",
        "        lines.append(line)\n",
        "    return \" \".join(lines)\n",
        "\n",
        "def clean_text(text):\n",
        "    text = text.lower()\n",
        "    return re.sub(r'[^\\w\\s]', '', text)\n",
        "\n",
        "def calculate_statistics(cleaned_text):\n",
        "    words = cleaned_text.split()\n",
        "    word_count = len(words)\n",
        "    sentence_count = len(re.findall(r'[.!?]', cleaned_text))\n",
        "    avg_word_len = sum(len(word) for word in words) / word_count if word_count else 0\n",
        "    return {\n",
        "        'word_count': word_count,\n",
        "        'sentence_count': sentence_count,\n",
        "        'average_word_length': round(avg_word_len, 2)\n",
        "    }\n",
        "\n",
        "def get_word_frequencies(cleaned_text, top_n=10):\n",
        "    words = cleaned_text.split()\n",
        "    word_counts = Counter(words)\n",
        "    return dict(word_counts.most_common(top_n))\n",
        "\n",
        "def visualise_frequencies(freq_dict):\n",
        "    if not freq_dict:\n",
        "        print(\"No data to display.\")\n",
        "        return\n",
        "    words = list(freq_dict.keys())\n",
        "    counts = list(freq_dict.values())\n",
        "    plt.figure(figsize=(10, 6))\n",
        "    plt.bar(words, counts, color='skyblue')\n",
        "    plt.xlabel('Words')\n",
        "    plt.ylabel('Frequency')\n",
        "    plt.title('Top Word Frequencies')\n",
        "    plt.xticks(rotation=45)\n",
        "    plt.tight_layout()\n",
        "    plt.show()\n"
      ],
      "metadata": {
        "id": "aiHAQwb8oXRr"
      },
      "execution_count": 114,
      "outputs": []
    },
    {
      "cell_type": "markdown",
      "source": [
        "## **A well working program with main menu**\n",
        "\n",
        "Below is a well developed program which:\n",
        "* Takes user inputs\n",
        "* Cleans and  analyses it\n",
        "* shows stats + word frequencies\n",
        "* Visualises Data\n",
        "* Uses a clean menu with pyinputplus"
      ],
      "metadata": {
        "id": "9MCl60qRQThu"
      }
    },
    {
      "cell_type": "code",
      "source": [
        "!pip install pyinputplus"
      ],
      "metadata": {
        "colab": {
          "base_uri": "https://localhost:8080/"
        },
        "id": "VtlkphzSRg_7",
        "outputId": "7e10ff8a-4539-4892-fd53-4ba3ca4d4e97"
      },
      "execution_count": 115,
      "outputs": [
        {
          "output_type": "stream",
          "name": "stdout",
          "text": [
            "Requirement already satisfied: pyinputplus in /usr/local/lib/python3.11/dist-packages (0.2.12)\n",
            "Requirement already satisfied: pysimplevalidate>=0.2.7 in /usr/local/lib/python3.11/dist-packages (from pyinputplus) (0.2.12)\n",
            "Requirement already satisfied: stdiomask>=0.0.3 in /usr/local/lib/python3.11/dist-packages (from pyinputplus) (0.0.6)\n"
          ]
        }
      ]
    },
    {
      "cell_type": "code",
      "source": [
        "def main_menu():\n",
        "    user_text = \"\"\n",
        "    cleaned = \"\"\n",
        "    stats = {}\n",
        "    freq_dict = {}\n",
        "\n",
        "    while True:\n",
        "        print(\"\\n TEXT ANALYSIS TOOL MENU\")\n",
        "        choice = pyip.inputMenu([\n",
        "            'Enter new text',\n",
        "            'Show cleaned text',\n",
        "            'Show text statistics',\n",
        "            'Show top word frequencies',\n",
        "            'Visualise word frequencies',\n",
        "            'Exit'\n",
        "        ], numbered=True)\n",
        "\n",
        "        if choice == 'Enter new text':\n",
        "            user_text = get_user_input()\n",
        "            cleaned = clean_text(user_text)\n",
        "            stats = calculate_statistics(cleaned)\n",
        "            freq_dict = get_word_frequencies(cleaned, top_n=10)\n",
        "            print(\" Text saved and analysed!\")\n",
        "\n",
        "        elif choice == 'Show cleaned text':\n",
        "            if cleaned:\n",
        "                print(\"\\n  Cleaned Text:\")\n",
        "                print(cleaned)\n",
        "            else:\n",
        "                print(\"No cleaned text available. Please enter text first.\")\n",
        "\n",
        "        elif choice == 'Show text statistics':\n",
        "            if not stats:\n",
        "                print(\" No stats available. Please enter text first.\")\n",
        "            else:\n",
        "                print(\"\\n Text Statistics:\")\n",
        "                for key, value in stats.items():\n",
        "                    print(f\"{key.replace('_', ' ').capitalize()}: {value}\")\n",
        "\n",
        "        elif choice == 'Show top word frequencies':\n",
        "            if not freq_dict:\n",
        "                print(\" No frequency data available. Please enter text first.\")\n",
        "            else:\n",
        "                print(\"\\n Top Word Frequencies:\")\n",
        "                for word, count in freq_dict.items():\n",
        "                    print(f\"{word}: {count}\")\n",
        "\n",
        "        elif choice == 'Visualise word frequencies':\n",
        "            visualise_frequencies(freq_dict)\n",
        "\n",
        "        elif choice == 'Exit':\n",
        "            print(\" Exiting program. Goodbye!\")\n",
        "            break\n"
      ],
      "metadata": {
        "id": "CeT9clL_RP5a"
      },
      "execution_count": 116,
      "outputs": []
    },
    {
      "cell_type": "code",
      "source": [
        "main_menu()"
      ],
      "metadata": {
        "colab": {
          "base_uri": "https://localhost:8080/",
          "height": 1000
        },
        "id": "lBhHHFb4SUQ7",
        "outputId": "5653b134-7477-4c79-bd8f-7b4450168bea"
      },
      "execution_count": 117,
      "outputs": [
        {
          "name": "stdout",
          "output_type": "stream",
          "text": [
            "\n",
            " TEXT ANALYSIS TOOL MENU\n",
            "Please select one of the following:\n",
            "1. Enter new text\n",
            "2. Show cleaned text\n",
            "3. Show text statistics\n",
            "4. Show top word frequencies\n",
            "5. Visualise word frequencies\n",
            "6. Exit\n",
            "1\n",
            "\n",
            "Please enter your text below.\n",
            "(Press Enter twice to finish):\n",
            "def main_menu():     user_text = \"\"     cleaned = \"\"     stats = {}     freq_dict = {}      while True:         print(\"\\n📊 TEXT ANALYSIS TOOL MENU\")         choice = pyip.inputMenu([             'Enter new text',             'Show cleaned text',             'Show text statistics',             'Show top word frequencies',             'Visualise word frequencies',             'Exit'         ], numbered=True)          if choice == 'Enter new text':             user_text = get_user_input()             cleaned = clean_text(user_text)             stats = calculate_statistics(cleaned)             freq_dict = get_word_frequencies(cleaned, top_n=10)             print(\"✅ Text saved and analysed!\")          elif choice == 'Show cleaned text':             if cleaned:                 print(\"\\n🧼 Cleaned Text:\")                 print(cleaned)             else:                 print(\"⚠️ No cleaned text available. Please enter text first.\")          elif choice == 'Show text statistics':             if not stats:                 print(\"⚠️ No stats available. Please enter text first.\")             else:                 print(\"\\n📋 Text Statistics:\")                 for key, value in stats.items():                     print(f\"{key.replace('_', ' ').capitalize()}: {value}\")          elif choice == 'Show top word frequencies':             if not freq_dict:                 print(\"⚠️ No frequency data available. Please enter text first.\")             else:                 print(\"\\n🔢 Top Word Frequencies:\")                 for word, count in freq_dict.items():                     print(f\"{word}: {count}\")          elif choice == 'Visualise word frequencies':             visualise_frequencies(freq_dict)          elif choice == 'Exit':             print(\"👋 Exiting program. Goodbye!\")             break\n",
            "\n",
            " Text saved and analysed!\n",
            "\n",
            " TEXT ANALYSIS TOOL MENU\n",
            "Please select one of the following:\n",
            "1. Enter new text\n",
            "2. Show cleaned text\n",
            "3. Show text statistics\n",
            "4. Show top word frequencies\n",
            "5. Visualise word frequencies\n",
            "6. Exit\n",
            "2\n",
            "\n",
            "  Cleaned Text:\n",
            "def main_menu     user_text       cleaned       stats       freq_dict        while true         printn text analysis tool menu         choice  pyipinputmenu             enter new text             show cleaned text             show text statistics             show top word frequencies             visualise word frequencies             exit          numberedtrue          if choice  enter new text             user_text  get_user_input             cleaned  clean_textuser_text             stats  calculate_statisticscleaned             freq_dict  get_word_frequenciescleaned top_n10             print text saved and analysed          elif choice  show cleaned text             if cleaned                 printn cleaned text                 printcleaned             else                 print no cleaned text available please enter text first          elif choice  show text statistics             if not stats                 print no stats available please enter text first             else                 printn text statistics                 for key value in statsitems                     printfkeyreplace_  capitalize value          elif choice  show top word frequencies             if not freq_dict                 print no frequency data available please enter text first             else                 printn top word frequencies                 for word count in freq_dictitems                     printfword count          elif choice  visualise word frequencies             visualise_frequenciesfreq_dict          elif choice  exit             print exiting program goodbye             break\n",
            "\n",
            " TEXT ANALYSIS TOOL MENU\n",
            "Please select one of the following:\n",
            "1. Enter new text\n",
            "2. Show cleaned text\n",
            "3. Show text statistics\n",
            "4. Show top word frequencies\n",
            "5. Visualise word frequencies\n",
            "6. Exit\n",
            "3\n",
            "\n",
            " Text Statistics:\n",
            "Word count: 145\n",
            "Sentence count: 0\n",
            "Average word length: 6.34\n",
            "\n",
            " TEXT ANALYSIS TOOL MENU\n",
            "Please select one of the following:\n",
            "1. Enter new text\n",
            "2. Show cleaned text\n",
            "3. Show text statistics\n",
            "4. Show top word frequencies\n",
            "5. Visualise word frequencies\n",
            "6. Exit\n",
            "4\n",
            "\n",
            " Top Word Frequencies:\n",
            "text: 14\n",
            "cleaned: 7\n",
            "choice: 7\n",
            "show: 6\n",
            "word: 6\n",
            "enter: 5\n",
            "frequencies: 5\n",
            "print: 5\n",
            "elif: 5\n",
            "stats: 4\n",
            "\n",
            " TEXT ANALYSIS TOOL MENU\n",
            "Please select one of the following:\n",
            "1. Enter new text\n",
            "2. Show cleaned text\n",
            "3. Show text statistics\n",
            "4. Show top word frequencies\n",
            "5. Visualise word frequencies\n",
            "6. Exit\n",
            "5\n"
          ]
        },
        {
          "output_type": "display_data",
          "data": {
            "text/plain": [
              "<Figure size 1000x600 with 1 Axes>"
            ],
            "image/png": "[encoded data removed]"
          },
          "metadata": {}
        },
        {
          "output_type": "stream",
          "name": "stdout",
          "text": [
            "\n",
            " TEXT ANALYSIS TOOL MENU\n",
            "Please select one of the following:\n",
            "1. Enter new text\n",
            "2. Show cleaned text\n",
            "3. Show text statistics\n",
            "4. Show top word frequencies\n",
            "5. Visualise word frequencies\n",
            "6. Exit\n",
            "6\n",
            " Exiting program. Goodbye!\n"
          ]
        }
      ]
    }
  ]
}