{
  "nbformat": 4,
  "nbformat_minor": 0,
  "metadata": {
    "colab": {
      "provenance": [],
      "authorship_tag": "ABX9TyPxj3DAOluPG93WDXXWHpn9",
      "include_colab_link": true
    },
    "kernelspec": {
      "name": "python3",
      "display_name": "Python 3"
    },
    "language_info": {
      "name": "python"
    }
  },
  "cells": [
    {
      "cell_type": "markdown",
      "metadata": {
        "id": "view-in-github",
        "colab_type": "text"
      },
      "source": [
        "<a href=\"https://colab.research.google.com/github/Godwill-Kipchirchir/assessment1/blob/main/assigment1.ipynb\" target=\"_parent\"><img src=\"https://colab.research.google.com/assets/colab-badge.svg\" alt=\"Open In Colab\"/></a>"
      ]
    },
    {
      "cell_type": "code",
      "execution_count": null,
      "metadata": {
        "id": "fuBPyWgLNPWx"
      },
      "outputs": [],
      "source": []
    },
    {
      "cell_type": "markdown",
      "source": [
        "# ***Introduction***\n",
        "\n",
        "Welcome to my first python notebook.\n",
        "\n",
        "This notebook provides clear quide of a program that analyses text input from users, calculating statistics and creating visualisations of the results.\n",
        "\n",
        "**Function 1: get_user_input()**\n",
        "\n",
        "To ask for a block of text I will use pyinputplus\n"
      ],
      "metadata": {
        "id": "zLrhC790r5Nk"
      }
    },
    {
      "cell_type": "markdown",
      "source": [],
      "metadata": {
        "id": "TLuAB5FlMdtf"
      }
    },
    {
      "cell_type": "code",
      "source": [
        "#start by installing pyinputplus\n",
        "!pip install pyinputplus"
      ],
      "metadata": {
        "id": "FfpdmuAmLyFS",
        "outputId": "444f6a70-6cc1-4686-8d87-360fc39ab95f",
        "colab": {
          "base_uri": "https://localhost:8080/"
        }
      },
      "execution_count": 16,
      "outputs": [
        {
          "output_type": "stream",
          "name": "stdout",
          "text": [
            "Requirement already satisfied: pyinputplus in /usr/local/lib/python3.11/dist-packages (0.2.12)\n",
            "Requirement already satisfied: pysimplevalidate>=0.2.7 in /usr/local/lib/python3.11/dist-packages (from pyinputplus) (0.2.12)\n",
            "Requirement already satisfied: stdiomask>=0.0.3 in /usr/local/lib/python3.11/dist-packages (from pyinputplus) (0.0.6)\n"
          ]
        }
      ]
    },
    {
      "cell_type": "markdown",
      "source": [
        "After installing the pyinputplus, I'll proceed to getting users input."
      ],
      "metadata": {
        "id": "Irrksh-NMt5I"
      }
    },
    {
      "cell_type": "code",
      "source": [
        "#get users input\n",
        "import pyinputplus as pyip\n",
        "def get_user_input():\n",
        "    print(\"\\n📝 Please enter your text below.\")\n",
        "    print(\"(Press Enter twice to finish):\")\n",
        "\n",
        "    lines = []\n",
        "    while True:\n",
        "        line = input()\n",
        "        if line.strip() == \"\":\n",
        "            if lines:\n",
        "                break\n",
        "            else:\n",
        "                print(\"Please enter at least one line of text.\")\n",
        "        else:\n",
        "            lines.append(line.strip())\n",
        "\n",
        "    return \" \".join(lines)\n",
        "#output\n",
        "text = get_user_input()\n",
        "print(\"\\n—you entered—\\n\")\n",
        "print(text)\n"
      ],
      "metadata": {
        "id": "EBRxn6YTM9oD",
        "colab": {
          "base_uri": "https://localhost:8080/"
        },
        "outputId": "bd3fbf09-baff-42b9-8a54-b935d451ca56"
      },
      "execution_count": 28,
      "outputs": [
        {
          "output_type": "stream",
          "name": "stdout",
          "text": [
            "\n",
            "📝 Please enter your text below.\n",
            "(Press Enter twice to finish):\n",
            "fdsaghtrnjg^6.,../;slfgohj\n",
            "\n",
            "\n",
            "—you entered—\n",
            "\n",
            "fdsaghtrnjg^6.,../;slfgohj\n"
          ]
        }
      ]
    },
    {
      "cell_type": "markdown",
      "source": [
        "# **Function 2: clean_text(text)**\n",
        "\n",
        "This removes punctuations and normalizes the case."
      ],
      "metadata": {
        "id": "vibleq4wOrKR"
      }
    },
    {
      "cell_type": "code",
      "source": [
        "# import re in Python is used to bring in the Regular Expressions (regex)\n",
        "# module, which lets you search, match, and manipulate strings using patterns.\n",
        "\n",
        "import re\n",
        "\n",
        "def clean_text(text):\n",
        "    # Convert to lowercase\n",
        "    text = text.lower()\n",
        "    # Remove punctuation using regex\n",
        "    text = re.sub(r'[^\\w\\s]', '', text)\n",
        "    return text\n",
        "\n",
        "sample = text\n",
        "cleaned = clean_text(sample)\n",
        "print(\"original:\",sample)\n",
        "print(\"cleaned:\",cleaned)"
      ],
      "metadata": {
        "id": "u7RgUDp0PBNp",
        "colab": {
          "base_uri": "https://localhost:8080/"
        },
        "outputId": "7cecd5c2-d963-45b8-b6c1-1d7305ab50cb"
      },
      "execution_count": 29,
      "outputs": [
        {
          "output_type": "stream",
          "name": "stdout",
          "text": [
            "original: fdsaghtrnjg^6.,../;slfgohj\n",
            "cleaned: fdsaghtrnjg6slfgohj\n"
          ]
        }
      ]
    },
    {
      "cell_type": "markdown",
      "source": [
        "# **Function 3:** calculate_statistics(text)\n",
        "\n",
        "This calculates basic statisctics from the cleaned text.\n"
      ],
      "metadata": {
        "id": "JbxRAcq-QwgN"
      }
    },
    {
      "cell_type": "code",
      "source": [
        "def calculate_statistics(cleaned_text):\n",
        "    words = cleaned_text.split()\n",
        "    word_count = len(words)\n",
        "\n",
        "    # Basic sentence count: count '.', '!' or '?' in original text\n",
        "    # (Assume original text is available, not cleaned one)\n",
        "    sentence_count = len(re.findall(r'[.!?]', cleaned_text))\n",
        "\n",
        "    # Calculate average word length\n",
        "    if word_count > 0:\n",
        "        avg_word_len = sum(len(word) for word in words) / word_count\n",
        "    else:\n",
        "        avg_word_len = 0\n",
        "\n",
        "    return {\n",
        "        'word_count': word_count,\n",
        "        'sentence_count': sentence_count,\n",
        "        'average_word_length': round(avg_word_len, 2)\n",
        "    }\n"
      ],
      "metadata": {
        "id": "cd-jNWoZRZ5N"
      },
      "execution_count": 15,
      "outputs": []
    },
    {
      "cell_type": "markdown",
      "source": [
        "## **Function 4:**   get_word_frequencies(cleaned_text,top_n)\n",
        "\n",
        "For this to be efficient to the progam or for it to be effective I used ***collections.counter*** to find the most common words.\n",
        "\n",
        "1"
      ],
      "metadata": {
        "id": "4sPtKLHqWBNm"
      }
    }
  ]
}