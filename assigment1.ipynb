{
  "nbformat": 4,
  "nbformat_minor": 0,
  "metadata": {
    "colab": {
      "provenance": [],
      "authorship_tag": "ABX9TyODgEROD1WNkidREIeC9MRd",
      "include_colab_link": true
    },
    "kernelspec": {
      "name": "python3",
      "display_name": "Python 3"
    },
    "language_info": {
      "name": "python"
    }
  },
  "cells": [
    {
      "cell_type": "markdown",
      "metadata": {
        "id": "view-in-github",
        "colab_type": "text"
      },
      "source": [
        "<a href=\"https://colab.research.google.com/github/Godwill-Kipchirchir/assessment1/blob/main/assigment1.ipynb\" target=\"_parent\"><img src=\"https://colab.research.google.com/assets/colab-badge.svg\" alt=\"Open In Colab\"/></a>"
      ]
    },
    {
      "cell_type": "code",
      "execution_count": null,
      "metadata": {
        "id": "fuBPyWgLNPWx"
      },
      "outputs": [],
      "source": []
    },
    {
      "cell_type": "markdown",
      "source": [
        "# ***Introduction***\n",
        "\n",
        "Welcome to my first python notebook.\n",
        "\n",
        "This notebook provides clear quide of a program that analyses text input from users, calculating statistics and creating visualisations of the results.\n",
        "\n",
        "**Function 1: get_user_input()**\n",
        "\n",
        "To ask for a block of text I will use pyinputplus\n"
      ],
      "metadata": {
        "id": "zLrhC790r5Nk"
      }
    },
    {
      "cell_type": "markdown",
      "source": [],
      "metadata": {
        "id": "TLuAB5FlMdtf"
      }
    },
    {
      "cell_type": "code",
      "source": [
        "#start by installing pyinputplus\n",
        "!pip install pyinputplus"
      ],
      "metadata": {
        "id": "FfpdmuAmLyFS"
      },
      "execution_count": null,
      "outputs": []
    },
    {
      "cell_type": "markdown",
      "source": [
        "After installing the pyinputplus, I'll proceed to getting users input."
      ],
      "metadata": {
        "id": "Irrksh-NMt5I"
      }
    },
    {
      "cell_type": "code",
      "source": [
        "\n",
        "#get users input\n",
        "import pyinputplus as pyip\n",
        "def get_user_input():\n",
        "    print(\"\\n📝 Please enter your text below.\")\n",
        "    print(\"(Press Enter twice to finish):\")\n",
        "\n",
        "    lines = []\n",
        "    while True:\n",
        "        line = input()\n",
        "        if line.strip() == \"\":\n",
        "            if lines:\n",
        "                break\n",
        "            else:\n",
        "                print(\"Please enter at least one line of text.\")\n",
        "        else:\n",
        "            lines.append(line.strip())\n",
        "\n",
        "    return \" \".join(lines)\n",
        "#output\n",
        "text = get_user_input()\n",
        "print(\"\\n—you entered—\\n\")\n",
        "print(text)\n"
      ],
      "metadata": {
        "id": "EBRxn6YTM9oD"
      },
      "execution_count": null,
      "outputs": []
    },
    {
      "cell_type": "markdown",
      "source": [
        "# **Function 2: clean_text(text)**\n",
        "\n",
        "This removes punctuations and normalizes the case."
      ],
      "metadata": {
        "id": "vibleq4wOrKR"
      }
    },
    {
      "cell_type": "code",
      "source": [
        "# import re in Python is used to bring in the Regular Expressions (regex)\n",
        "# module, which lets you search, match, and manipulate strings using patterns.\n",
        "\n",
        "import re\n",
        "\n",
        "def clean_text(text):\n",
        "    # Convert to lowercase\n",
        "    text = text.lower()\n",
        "    # Remove punctuation using regex\n",
        "    text = re.sub(r'[^\\w\\s]', '', text)\n",
        "    return text\n",
        "\n",
        "sample = text\n",
        "cleaned = clean_text(sample)\n",
        "print(\"original:\",sample)\n",
        "print(\"cleaned:\",cleaned)"
      ],
      "metadata": {
        "id": "u7RgUDp0PBNp"
      },
      "execution_count": null,
      "outputs": []
    },
    {
      "cell_type": "markdown",
      "source": [
        "# **Function 3:** calculate_statistics(text)\n",
        "\n",
        "This calculates basic statisctics from the cleaned text.\n"
      ],
      "metadata": {
        "id": "JbxRAcq-QwgN"
      }
    },
    {
      "cell_type": "code",
      "source": [
        "def calculate_statistics(cleaned_text):\n",
        "    words = cleaned_text.split()\n",
        "    word_count = len(words)\n",
        "\n",
        "    # Basic sentence count: count '.', '!' or '?' in original text\n",
        "    # (Assume original text is available, not cleaned one)\n",
        "    sentence_count = len(re.findall(r'[.!?]', cleaned_text))\n",
        "\n",
        "    # Calculate average word length\n",
        "    if word_count > 0:\n",
        "        avg_word_len = sum(len(word) for word in words) / word_count\n",
        "    else:\n",
        "        avg_word_len = 0\n",
        "\n",
        "    return {\n",
        "        'word_count': word_count,\n",
        "        'sentence_count': sentence_count,\n",
        "        'average_word_length': round(avg_word_len, 2)\n",
        "    }\n"
      ],
      "metadata": {
        "id": "cd-jNWoZRZ5N"
      },
      "execution_count": 35,
      "outputs": []
    },
    {
      "cell_type": "markdown",
      "source": [
        "## **Function 4:**   get_word_frequencies(cleaned_text,top_n)\n",
        "\n",
        "For this to be efficient to the progam or for it to be effective I used ***collections.counter*** to find the most common words.\n",
        "\n",
        "**Collections.Counter**\n",
        "*   A subclass of dict designed for counting.\n",
        "*   Keys are the items you’re counting (e.g., words), and values are the counts.\n",
        "\n",
        "\n",
        "\n"
      ],
      "metadata": {
        "id": "4sPtKLHqWBNm"
      }
    },
    {
      "cell_type": "code",
      "source": [
        "from collections import Counter\n",
        "\n",
        "def get_word_frequencies(cleaned_text, top_n=10):\n",
        "    words = cleaned_text.split()\n",
        "    word_counts = Counter(words)\n",
        "    most_common = word_counts.most_common(top_n)\n",
        "    return dict(most_common)\n",
        "\n",
        "# Example usage\n",
        "sample_text = text\n",
        "#the input must first be cleaned before getting the word frequency\n",
        "freqs = get_word_frequencies(sample_text, top_n=3)\n",
        "\n",
        "print(\"Top 3 word frequencies:\")\n",
        "for word, count in freqs.items():\n",
        "    print(f\"{word}: {count}\")\n",
        "\n"
      ],
      "metadata": {
        "colab": {
          "base_uri": "https://localhost:8080/"
        },
        "id": "GPzPWdVjiXyr",
        "outputId": "174719e3-d69e-4124-b9ac-ab4186799728"
      },
      "execution_count": 43,
      "outputs": [
        {
          "output_type": "stream",
          "name": "stdout",
          "text": [
            "Top 3 word frequencies:\n",
            "navigate_next: 3\n",
            "next: 1\n",
            "get_user_input(): 1\n"
          ]
        }
      ]
    },
    {
      "cell_type": "markdown",
      "source": [
        "## **Function 5:**  visualise_frequencies(freq_dict)\n",
        "\n",
        "\n",
        "This visualises the frequency dictionary using matplotlib.\n",
        "\n",
        "*   It takes your frequency dictionary—where keys are words and values are counts—and produce a bar chart of the top words.\n",
        "\n",
        "\n",
        "\n"
      ],
      "metadata": {
        "id": "i8BQSsHtnPU6"
      }
    },
    {
      "cell_type": "code",
      "source": [
        "!pip install matplotlib"
      ],
      "metadata": {
        "id": "rNemQZ7QoroB"
      },
      "execution_count": null,
      "outputs": []
    },
    {
      "cell_type": "code",
      "source": [
        "import matplotlib.pyplot as plt\n",
        "\n",
        "def visualise_frequencies(freq_dict):\n",
        "    if not freq_dict:\n",
        "        print(\"No data to display.\")\n",
        "        return\n",
        "\n",
        "    words = list(freq_dict.keys())\n",
        "    counts = list(freq_dict.values())\n",
        "\n",
        "    plt.figure(figsize=(10, 6))\n",
        "    plt.bar(words, counts, color='skyblue')\n",
        "    plt.xlabel('Words')\n",
        "    plt.ylabel('Frequency')\n",
        "    plt.title('Top Word Frequencies')\n",
        "    plt.xticks(rotation=45)\n",
        "    plt.tight_layout()\n",
        "    plt.show()\n",
        "\n",
        "\n",
        "sample = text\n",
        "cleaned = clean_text(sample)\n",
        "freq_dict = get_word_frequencies(cleaned, top_n=3)\n",
        "print(\"Frequencies:\", freq_dict)\n",
        "visualise_frequencies(freq_dict)"
      ],
      "metadata": {
        "colab": {
          "base_uri": "https://localhost:8080/",
          "height": 624
        },
        "id": "aiHAQwb8oXRr",
        "outputId": "09864be0-0b19-400f-f1ed-c640bfc45552"
      },
      "execution_count": 45,
      "outputs": [
        {
          "output_type": "stream",
          "name": "stdout",
          "text": [
            "Frequencies: {'navigate_next': 3, 'next': 1, 'get_user_input': 1}\n"
          ]
        },
        {
          "output_type": "display_data",
          "data": {
            "text/plain": [
              "<Figure size 1000x600 with 1 Axes>"
            ],
            "image/png": "[encoded data removed]"
          },
          "metadata": {}
        }
      ]
    }
  ]
}